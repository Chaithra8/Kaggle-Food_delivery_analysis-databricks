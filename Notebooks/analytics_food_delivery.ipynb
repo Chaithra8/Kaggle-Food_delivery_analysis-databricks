{
 "cells": [
  {
   "cell_type": "markdown",
   "metadata": {
    "application/vnd.databricks.v1+cell": {
     "cellMetadata": {},
     "inputWidgets": {},
     "nuid": "37940474-e19c-4a5a-9cab-0417ca565c42",
     "showTitle": false,
     "tableResultSettingsMap": {},
     "title": ""
    }
   },
   "source": []
  },
  {
   "cell_type": "markdown",
   "metadata": {
    "application/vnd.databricks.v1+cell": {
     "cellMetadata": {},
     "inputWidgets": {},
     "nuid": "f2ac4365-3724-4172-b114-a36e5bf8a212",
     "showTitle": false,
     "tableResultSettingsMap": {},
     "title": ""
    }
   },
   "source": [
    "# Creating Analytical ready delta tables"
   ]
  },
  {
   "cell_type": "markdown",
   "metadata": {
    "application/vnd.databricks.v1+cell": {
     "cellMetadata": {},
     "inputWidgets": {},
     "nuid": "e132712a-8c27-47f7-9607-a73e33447314",
     "showTitle": false,
     "tableResultSettingsMap": {},
     "title": ""
    }
   },
   "source": [
    "Create \"analytics\" schema "
   ]
  },
  {
   "cell_type": "code",
   "execution_count": 0,
   "metadata": {
    "application/vnd.databricks.v1+cell": {
     "cellMetadata": {},
     "inputWidgets": {},
     "nuid": "080066ee-cb0a-47c3-a047-39307351ce82",
     "showTitle": false,
     "tableResultSettingsMap": {},
     "title": ""
    }
   },
   "outputs": [],
   "source": [
    "%sql\n",
    "\n",
    "CREATE DATABASE IF NOT EXISTS analytics;"
   ]
  },
  {
   "cell_type": "code",
   "execution_count": 0,
   "metadata": {
    "application/vnd.databricks.v1+cell": {
     "cellMetadata": {},
     "inputWidgets": {},
     "nuid": "07b4b7dc-b74c-461b-9582-01f8f5795af2",
     "showTitle": false,
     "tableResultSettingsMap": {},
     "title": ""
    }
   },
   "outputs": [],
   "source": [
    "# To read staging delta table\n",
    "df = spark.read.table('staging.food_delivery_stage')\n"
   ]
  },
  {
   "cell_type": "markdown",
   "metadata": {
    "application/vnd.databricks.v1+cell": {
     "cellMetadata": {},
     "inputWidgets": {},
     "nuid": "40eccf00-d9b2-4926-9c91-e7ce9412bf66",
     "showTitle": false,
     "tableResultSettingsMap": {},
     "title": ""
    }
   },
   "source": [
    "**1. Performance summary of each delivery person**"
   ]
  },
  {
   "cell_type": "code",
   "execution_count": 0,
   "metadata": {
    "application/vnd.databricks.v1+cell": {
     "cellMetadata": {
      "byteLimit": 2048000,
      "rowLimit": 10000
     },
     "inputWidgets": {},
     "nuid": "51d9fdc6-5220-43e2-a32d-d817436542ec",
     "showTitle": false,
     "tableResultSettingsMap": {},
     "title": ""
    }
   },
   "outputs": [],
   "source": [
    "# 1. Performance summary of each delivery person\n",
    "delivery_person_performance_summary = df.groupBy('delivery_person_id').agg(\n",
    "    sum('time_taken_min').alias('total_delivery_time_min'),  # Total delivery time\n",
    "    count('id').alias('total_deliveries'),                   # Total number of deliveries\n",
    "    avg('time_taken_min').alias('avg_delivery_time_min'),        # Average delivery time\n",
    "    max('time_taken_min').alias('max_delivery_time_min'),        # Max delivery time\n",
    "    min('time_taken_min').alias('min_delivery_time_min'),        # Min delivery time\n",
    "    max('multiple_deliveries').alias('max_single_trip_delivery'),       # Max multiple deliveries in a single trip\n",
    "    min('multiple_deliveries').alias('min_single_trip_delivery'),         # Max multiple deliveries in a single trip\n",
    "    avg('delivery_person_ratings').alias('avg_ratings'),\n",
    "    count(when(col(\"multiple_deliveries\") > 1, 1)).alias('extra_credit_deliveries')  # number of times extra deliveries made on a single trip\n",
    ")\n",
    "\n",
    "# Load the results to delta table\n",
    "delivery_person_performance_summary.write.format(\"delta\").mode(\"overwrite\").option(\"mergeSchema\", \"true\").saveAsTable(\"analytics.delivery_person_performance_summary\")\n",
    "               \n"
   ]
  },
  {
   "cell_type": "markdown",
   "metadata": {
    "application/vnd.databricks.v1+cell": {
     "cellMetadata": {},
     "inputWidgets": {},
     "nuid": "7ab529cf-2186-4a76-9f5d-033e2d057836",
     "showTitle": false,
     "tableResultSettingsMap": {},
     "title": ""
    }
   },
   "source": [
    "**2. Delivery summary**"
   ]
  },
  {
   "cell_type": "code",
   "execution_count": 0,
   "metadata": {
    "application/vnd.databricks.v1+cell": {
     "cellMetadata": {
      "byteLimit": 2048000,
      "rowLimit": 10000
     },
     "inputWidgets": {},
     "nuid": "7d9ed4e8-808a-47c1-917b-79ff84e8e6de",
     "showTitle": false,
     "tableResultSettingsMap": {},
     "title": ""
    }
   },
   "outputs": [],
   "source": [
    "from pyspark.sql.functions import *\n",
    "\n",
    "# 2. Delivery summary \n",
    "# Create the delivery performance summary, now grouped by city and year\n",
    "delivery_performance_summary = df.groupBy('year', 'month', 'city').agg(\n",
    "    avg('time_taken_min').alias('avg_delivery_time'),\n",
    "    min('time_taken_min').alias('min_delivery_time'),\n",
    "    max('time_taken_min').alias('max_delivery_time'),\n",
    "    count('id').alias('total_deliveries')\n",
    ")\n",
    "\n",
    "# Clean the 'type_of_order' column: remove whitespaces and convert to lowercase\n",
    "order_type_counts_cleaned = order_type_counts.withColumn(\n",
    "    'type_of_order', lower(trim(col('type_of_order')))\n",
    ")\n",
    "\n",
    "# Pivot the data to count each type of order separately per city and year\n",
    "order_type_counts = df.groupBy('year', 'month', 'city', 'type_of_order').agg(\n",
    "    count('id').alias('order_type_count')\n",
    ")\n",
    "\n",
    "# Pivot to get separate columns for each order type (dynamically, based on the type_of_order)\n",
    "pivot_order_types = order_type_counts_cleaned.groupBy('year', 'month', 'city').pivot('type_of_order').agg(\n",
    "    first('order_type_count')  # We use 'first' as there should be only one count per city/year/order type\n",
    ")\n",
    "\n",
    "# Join the performance summary with the pivoted order type counts\n",
    "final_summary = delivery_performance_summary.join(pivot_order_types, on=['year', 'month', 'city'], how='left')\n",
    "\n",
    "# Load the results to delta table\n",
    "final_summary.write.format(\"delta\").mode(\"overwrite\").option(\"mergeSchema\", \"true\").saveAsTable(\"analytics.delivery_summary_by_month_city\")\n"
   ]
  },
  {
   "cell_type": "code",
   "execution_count": 0,
   "metadata": {
    "application/vnd.databricks.v1+cell": {
     "cellMetadata": {
      "byteLimit": 2048000,
      "rowLimit": 10000
     },
     "inputWidgets": {},
     "nuid": "54b0643d-7636-47a1-be9e-6b87925adfa4",
     "showTitle": false,
     "tableResultSettingsMap": {},
     "title": ""
    }
   },
   "outputs": [
    {
     "output_type": "display_data",
     "data": {
      "text/html": [
       "<style scoped>\n",
       "  .table-result-container {\n",
       "    max-height: 300px;\n",
       "    overflow: auto;\n",
       "  }\n",
       "  table, th, td {\n",
       "    border: 1px solid black;\n",
       "    border-collapse: collapse;\n",
       "  }\n",
       "  th, td {\n",
       "    padding: 5px;\n",
       "  }\n",
       "  th {\n",
       "    text-align: left;\n",
       "  }\n",
       "</style><div class='table-result-container'><table class='table-result'><thead style='background-color: white'><tr><th>year</th><th>month</th><th>city</th><th>avg_delivery_time</th><th>min_delivery_time</th><th>max_delivery_time</th><th>total_deliveries</th><th>Buffet </th><th>Drinks </th><th>Meal </th><th>Snack </th></tr></thead><tbody><tr><td>2022</td><td>3</td><td>Others</td><td>21.989461358313818</td><td>10</td><td>52</td><td>854</td><td>219</td><td>202</td><td>201</td><td>232</td></tr><tr><td>2022</td><td>4</td><td>Semi-Urban </td><td>49.32</td><td>44</td><td>54</td><td>25</td><td>5</td><td>6</td><td>8</td><td>6</td></tr><tr><td>2022</td><td>3</td><td>Urban </td><td>23.072326165875452</td><td>10</td><td>54</td><td>7162</td><td>1793</td><td>1818</td><td>1721</td><td>1830</td></tr><tr><td>2022</td><td>3</td><td>Semi-Urban </td><td>49.79661016949152</td><td>44</td><td>54</td><td>118</td><td>33</td><td>23</td><td>23</td><td>39</td></tr><tr><td>2022</td><td>4</td><td>Metropolitian </td><td>27.09486000835771</td><td>10</td><td>54</td><td>4786</td><td>1178</td><td>1198</td><td>1196</td><td>1214</td></tr><tr><td>2022</td><td>2</td><td>Semi-Urban </td><td>49.857142857142854</td><td>47</td><td>54</td><td>21</td><td>4</td><td>5</td><td>3</td><td>9</td></tr><tr><td>2022</td><td>4</td><td>Others</td><td>21.988165680473372</td><td>10</td><td>48</td><td>169</td><td>43</td><td>41</td><td>28</td><td>57</td></tr><tr><td>2022</td><td>3</td><td>Metropolitian </td><td>27.27553971913645</td><td>10</td><td>54</td><td>23855</td><td>5885</td><td>5934</td><td>6091</td><td>5945</td></tr><tr><td>2022</td><td>2</td><td>Others</td><td>22.45762711864407</td><td>10</td><td>54</td><td>177</td><td>41</td><td>43</td><td>46</td><td>47</td></tr><tr><td>2022</td><td>2</td><td>Metropolitian </td><td>27.682318415260454</td><td>10</td><td>54</td><td>5452</td><td>1364</td><td>1303</td><td>1377</td><td>1408</td></tr><tr><td>2022</td><td>4</td><td>Urban </td><td>22.803907380607814</td><td>10</td><td>53</td><td>1382</td><td>318</td><td>359</td><td>369</td><td>336</td></tr><tr><td>2022</td><td>2</td><td>Urban </td><td>22.743090452261306</td><td>10</td><td>53</td><td>1592</td><td>397</td><td>390</td><td>395</td><td>410</td></tr></tbody></table></div>"
      ]
     },
     "metadata": {
      "application/vnd.databricks.v1+output": {
       "addedWidgets": {},
       "aggData": [],
       "aggError": "",
       "aggOverflow": false,
       "aggSchema": [],
       "aggSeriesLimitReached": false,
       "aggType": "",
       "arguments": {},
       "columnCustomDisplayInfos": {},
       "data": [
        [
         2022,
         3,
         "Others",
         21.989461358313818,
         10,
         52,
         854,
         219,
         202,
         201,
         232
        ],
        [
         2022,
         4,
         "Semi-Urban ",
         49.32,
         44,
         54,
         25,
         5,
         6,
         8,
         6
        ],
        [
         2022,
         3,
         "Urban ",
         23.072326165875452,
         10,
         54,
         7162,
         1793,
         1818,
         1721,
         1830
        ],
        [
         2022,
         3,
         "Semi-Urban ",
         49.79661016949152,
         44,
         54,
         118,
         33,
         23,
         23,
         39
        ],
        [
         2022,
         4,
         "Metropolitian ",
         27.09486000835771,
         10,
         54,
         4786,
         1178,
         1198,
         1196,
         1214
        ],
        [
         2022,
         2,
         "Semi-Urban ",
         49.857142857142854,
         47,
         54,
         21,
         4,
         5,
         3,
         9
        ],
        [
         2022,
         4,
         "Others",
         21.988165680473372,
         10,
         48,
         169,
         43,
         41,
         28,
         57
        ],
        [
         2022,
         3,
         "Metropolitian ",
         27.27553971913645,
         10,
         54,
         23855,
         5885,
         5934,
         6091,
         5945
        ],
        [
         2022,
         2,
         "Others",
         22.45762711864407,
         10,
         54,
         177,
         41,
         43,
         46,
         47
        ],
        [
         2022,
         2,
         "Metropolitian ",
         27.682318415260454,
         10,
         54,
         5452,
         1364,
         1303,
         1377,
         1408
        ],
        [
         2022,
         4,
         "Urban ",
         22.803907380607814,
         10,
         53,
         1382,
         318,
         359,
         369,
         336
        ],
        [
         2022,
         2,
         "Urban ",
         22.743090452261306,
         10,
         53,
         1592,
         397,
         390,
         395,
         410
        ]
       ],
       "datasetInfos": [],
       "dbfsResultPath": null,
       "isJsonSchema": true,
       "metadata": {},
       "overflow": false,
       "plotOptions": {
        "customPlotOptions": {},
        "displayType": "table",
        "pivotAggregation": null,
        "pivotColumns": null,
        "xColumns": null,
        "yColumns": null
       },
       "removedWidgets": [],
       "schema": [
        {
         "metadata": "{}",
         "name": "year",
         "type": "\"integer\""
        },
        {
         "metadata": "{}",
         "name": "month",
         "type": "\"integer\""
        },
        {
         "metadata": "{}",
         "name": "city",
         "type": "\"string\""
        },
        {
         "metadata": "{}",
         "name": "avg_delivery_time",
         "type": "\"double\""
        },
        {
         "metadata": "{}",
         "name": "min_delivery_time",
         "type": "\"integer\""
        },
        {
         "metadata": "{}",
         "name": "max_delivery_time",
         "type": "\"integer\""
        },
        {
         "metadata": "{}",
         "name": "total_deliveries",
         "type": "\"long\""
        },
        {
         "metadata": "{}",
         "name": "Buffet ",
         "type": "\"long\""
        },
        {
         "metadata": "{}",
         "name": "Drinks ",
         "type": "\"long\""
        },
        {
         "metadata": "{}",
         "name": "Meal ",
         "type": "\"long\""
        },
        {
         "metadata": "{}",
         "name": "Snack ",
         "type": "\"long\""
        }
       ],
       "type": "table"
      }
     },
     "output_type": "display_data"
    },
    {
     "output_type": "display_data",
     "data": {
      "text/plain": [
       "Databricks visualization. Run in Databricks to view."
      ]
     },
     "metadata": {
      "application/vnd.databricks.v1.subcommand+json": {
       "baseErrorDetails": null,
       "bindings": {},
       "collapsed": false,
       "command": "%python\n__backend_agg_display_orig = display\n__backend_agg_dfs = []\ndef __backend_agg_display_new(df):\n    __backend_agg_df_modules = [\"pandas.core.frame\", \"databricks.koalas.frame\", \"pyspark.sql.dataframe\", \"pyspark.pandas.frame\", \"pyspark.sql.connect.dataframe\"]\n    if (type(df).__module__ in __backend_agg_df_modules and type(df).__name__ == 'DataFrame') or isinstance(df, list):\n        __backend_agg_dfs.append(df)\n\ndisplay = __backend_agg_display_new\n\ndef __backend_agg_user_code_fn():\n    import base64\n    exec(base64.standard_b64decode(\"ZGlzcGxheShmaW5hbF9zdW1tYXJ5KQ==\").decode())\n\ntry:\n    # run user code\n    __backend_agg_user_code_fn()\n\n    #reset display function\n    display = __backend_agg_display_orig\n\n    if len(__backend_agg_dfs) > 0:\n        # create a temp view\n        if type(__backend_agg_dfs[0]).__module__ == \"databricks.koalas.frame\":\n            # koalas dataframe\n            __backend_agg_dfs[0].to_spark().createOrReplaceTempView(\"DatabricksViewe9c64ce\")\n        elif type(__backend_agg_dfs[0]).__module__ == \"pandas.core.frame\" or isinstance(__backend_agg_dfs[0], list):\n            # pandas dataframe\n            spark.createDataFrame(__backend_agg_dfs[0]).createOrReplaceTempView(\"DatabricksViewe9c64ce\")\n        else:\n            __backend_agg_dfs[0].createOrReplaceTempView(\"DatabricksViewe9c64ce\")\n        #run backend agg\n        display(spark.sql(\"\"\"WITH q AS (select * from DatabricksViewe9c64ce) SELECT `city`,SUM(`total_deliveries`) `column_2071666e104`,SUM(`Buffet `) `column_2071666e107`,SUM(`Drinks `) `column_2071666e110`,SUM(`Meal `) `column_2071666e113`,SUM(`Snack `) `column_2071666e116` FROM q GROUP BY `city`\"\"\"))\n    else:\n        displayHTML(\"dataframe no longer exists. If you're using dataframe.display(), use display(dataframe) instead.\")\n\n\nfinally:\n    spark.sql(\"drop view if exists DatabricksViewe9c64ce\")\n    display = __backend_agg_display_orig\n    del __backend_agg_display_new\n    del __backend_agg_display_orig\n    del __backend_agg_dfs\n    del __backend_agg_user_code_fn\n\n",
       "commandTitle": "Visualization 1",
       "commandType": "auto",
       "commandVersion": 0,
       "commentThread": [],
       "commentsVisible": false,
       "contentSha256Hex": null,
       "customPlotOptions": {
        "redashChart": [
         {
          "key": "type",
          "value": "CHART"
         },
         {
          "key": "options",
          "value": {
           "alignYAxesAtZero": true,
           "coefficient": 1,
           "columnConfigurationMap": {
            "x": {
             "column": "city",
             "id": "column_2071666e99"
            },
            "y": [
             {
              "column": "total_deliveries",
              "id": "column_2071666e104",
              "transform": "SUM"
             },
             {
              "column": "Buffet ",
              "id": "column_2071666e107",
              "transform": "SUM"
             },
             {
              "column": "Drinks ",
              "id": "column_2071666e110",
              "transform": "SUM"
             },
             {
              "column": "Meal ",
              "id": "column_2071666e113",
              "transform": "SUM"
             },
             {
              "column": "Snack ",
              "id": "column_2071666e116",
              "transform": "SUM"
             }
            ]
           },
           "dateTimeFormat": "DD/MM/YYYY HH:mm",
           "direction": {
            "type": "counterclockwise"
           },
           "error_y": {
            "type": "data",
            "visible": true
           },
           "globalSeriesType": "pie",
           "isAggregationOn": true,
           "legend": {
            "traceorder": "normal"
           },
           "missingValuesAsZero": true,
           "numberFormat": "0,0.[00000]",
           "percentFormat": "0[.]00%",
           "series": {
            "error_y": {
             "type": "data",
             "visible": true
            },
            "stacking": null
           },
           "seriesOptions": {
            "column_2071666e104": {
             "name": "Total deliveries",
             "type": "pie",
             "yAxis": 0
            },
            "column_2071666e107": {
             "name": "Buffet",
             "type": "pie",
             "yAxis": 0
            },
            "column_2071666e110": {
             "name": "Drinks",
             "type": "pie",
             "yAxis": 0
            },
            "column_2071666e113": {
             "name": "Meal",
             "type": "pie",
             "yAxis": 0
            },
            "column_2071666e116": {
             "name": "Snack",
             "type": "pie",
             "yAxis": 0
            }
           },
           "showDataLabels": true,
           "sizemode": "diameter",
           "sortX": true,
           "sortY": true,
           "swappedAxes": false,
           "textFormat": "",
           "useAggregationsUi": true,
           "valuesOptions": {
            "Metropolitian ": {
             "color": "#00B6EB"
            },
            "Others": {
             "color": "#FB8D3D"
            }
           },
           "version": 2,
           "xAxis": {
            "labels": {
             "enabled": true
            },
            "title": {
             "text": "City"
            },
            "type": "-"
           },
           "yAxis": [
            {
             "title": {
              "text": "Orders Count"
             },
             "type": "-"
            },
            {
             "opposite": true,
             "type": "-"
            }
           ]
          }
         }
        ]
       },
       "datasetPreviewNameToCmdIdMap": {},
       "diffDeletes": [],
       "diffInserts": [],
       "displayType": "redashChart",
       "error": null,
       "errorDetails": null,
       "errorSummary": null,
       "errorTraceType": null,
       "finishTime": 0,
       "globalVars": {},
       "guid": "",
       "height": "auto",
       "hideCommandCode": false,
       "hideCommandResult": false,
       "iPythonMetadata": null,
       "inputWidgets": {},
       "isLockedInExamMode": false,
       "latestUser": "a user",
       "latestUserId": null,
       "listResultMetadata": null,
       "metadata": {},
       "nuid": "69a687c3-6ae0-4356-8fbb-7ecf76ed9c7f",
       "origId": 0,
       "parentHierarchy": [],
       "pivotAggregation": null,
       "pivotColumns": null,
       "position": 4.0,
       "resultDbfsErrorMessage": null,
       "resultDbfsStatus": "INLINED_IN_TREE",
       "results": null,
       "showCommandTitle": false,
       "startTime": 0,
       "state": "input",
       "streamStates": {},
       "subcommandOptions": {
        "queryPlan": {
         "groups": [
          {
           "column": "city",
           "type": "column"
          }
         ],
         "selects": [
          {
           "column": "city",
           "type": "column"
          },
          {
           "alias": "column_2071666e104",
           "args": [
            {
             "column": "total_deliveries",
             "type": "column"
            }
           ],
           "function": "SUM",
           "type": "function"
          },
          {
           "alias": "column_2071666e107",
           "args": [
            {
             "column": "Buffet ",
             "type": "column"
            }
           ],
           "function": "SUM",
           "type": "function"
          },
          {
           "alias": "column_2071666e110",
           "args": [
            {
             "column": "Drinks ",
             "type": "column"
            }
           ],
           "function": "SUM",
           "type": "function"
          },
          {
           "alias": "column_2071666e113",
           "args": [
            {
             "column": "Meal ",
             "type": "column"
            }
           ],
           "function": "SUM",
           "type": "function"
          },
          {
           "alias": "column_2071666e116",
           "args": [
            {
             "column": "Snack ",
             "type": "column"
            }
           ],
           "function": "SUM",
           "type": "function"
          }
         ]
        }
       },
       "submitTime": 0,
       "subtype": "tableResultSubCmd.visualization",
       "tableResultIndex": 0,
       "tableResultSettingsMap": {},
       "useConsistentColors": false,
       "version": "CommandV1",
       "width": "auto",
       "workflows": [],
       "xColumns": null,
       "yColumns": null
      }
     },
     "output_type": "display_data"
    }
   ],
   "source": [
    "display(final_summary)"
   ]
  },
  {
   "cell_type": "markdown",
   "metadata": {
    "application/vnd.databricks.v1+cell": {
     "cellMetadata": {},
     "inputWidgets": {},
     "nuid": "636f5d4d-19bc-452f-a185-d07743f3c204",
     "showTitle": false,
     "tableResultSettingsMap": {},
     "title": ""
    }
   },
   "source": [
    "**3. Factors affecting orders placed count**"
   ]
  },
  {
   "cell_type": "code",
   "execution_count": 0,
   "metadata": {
    "application/vnd.databricks.v1+cell": {
     "cellMetadata": {
      "byteLimit": 2048000,
      "rowLimit": 10000
     },
     "inputWidgets": {},
     "nuid": "fdd3736e-9bb0-457e-9a84-3846b2dad1f2",
     "showTitle": false,
     "tableResultSettingsMap": {},
     "title": ""
    }
   },
   "outputs": [
    {
     "output_type": "stream",
     "name": "stdout",
     "output_type": "stream",
     "text": [
      "+----+-----+-----+----+-----+-------+----+------+----+----------+------+-----+-----+--------+------------+\n|year|month|High |Jam | Low |Medium |NaN |Cloudy| Fog|Sandstorms|Stormy|Sunny|Windy|festival|non_festival|\n+----+-----+-----+----+-----+-------+----+------+----+----------+------+-----+-----+--------+------------+\n|2022|    2|  686|2299| 2442|   1747|  68|  1211|1212|      1217|  1203| 1145| 1171|     148|        7094|\n|2022|    3| 3083|9929|10883|   7644| 450|  5311|5331|      5218|  5343| 5155| 5181|     633|       31356|\n|2022|    4|  656|1915| 2152|   1556|  83|  1014|1111|      1060|  1040|  984| 1070|     115|        6247|\n+----+-----+-----+----+-----+-------+----+------+----+----------+------+-----+-----+--------+------------+\n\n"
     ]
    }
   ],
   "source": [
    "# 3. Factors affecting orders placed count\n",
    "\n",
    "# ---------------i) To get count of orders for Festive and non-festive seasons\n",
    "# explicilty generating season_type column to track festival or non-festival season\n",
    "df_with_season = df.withColumn(\n",
    "    \"season_type\", \n",
    "    when(col(\"festival\").like(\"%Yes%\"), \"festival\").otherwise(\"non_festival\")\n",
    ")\n",
    "\n",
    "# Pivot the data to get count of order  per year, month and season_type\n",
    "festival_counts = df_with_season.groupBy('year', 'month', 'season_type').agg(\n",
    "    count('id').alias('order_count')\n",
    ")\n",
    "\n",
    "# Pivot to get separate columns for each season_type\n",
    "pivot_festival_counts = festival_counts.groupBy('year', 'month').pivot('season_type').agg(\n",
    "    first('order_count')  # We use 'first' as there should be only one count per city/year/order type\n",
    ")\n",
    "\n",
    "# ---------------ii) To get order count for each season type\n",
    "# Pivot the data to get count of order per year, month and weather_conditions\n",
    "weather_conditions_counts = df.groupBy('year', 'month', 'weather_conditions').agg(\n",
    "    count('id').alias('order_count')\n",
    ")\n",
    "\n",
    "# Pivot to get separate columns for each weather_conditions type\n",
    "pivot_weather_conditions_counts = weather_conditions_counts.groupBy('year', 'month').pivot('weather_conditions').agg(\n",
    "    first('order_count')  # We use 'first' as there should be only one count per city/year/order type\n",
    ")\n",
    "\n",
    "# ---------------iii) Orders count in different traffic density type\n",
    "# Pivot the data to count of order per year, month and road_traffic_density\n",
    "traffic_count = df.groupBy('year', 'month', 'road_traffic_density').agg(\n",
    "    count('id').alias('order_count')\n",
    ")\n",
    "\n",
    "# Pivot to get separate columns for each road_traffic_density type\n",
    "pivot_traffic_count = traffic_count.groupBy('year', 'month').pivot('road_traffic_density').agg(\n",
    "    first('order_count')  # We use 'first' as there should be only one count per city/year/order type\n",
    ")\n",
    "\n",
    "# --------------Perform the join operations to combine all dataframes\n",
    "final_df = pivot_festival_counts \\\n",
    "    .join(pivot_weather_conditions_counts, on=['year', 'month'], how='left') \\\n",
    "    .join(pivot_traffic_count, on=['year', 'month'], how='left')\n",
    "\n",
    "final_df = final_df.drop(\"NaN\") \n",
    "\n",
    "final_df.show()\n",
    "display(final_df)\n",
    "\n",
    "# Load the results to delta table\n",
    "final_df.write.format(\"delta\").mode(\"overwrite\").option(\"mergeSchema\", \"true\").saveAsTable(\"analytics.order_variations_by_condition\")"
   ]
  },
  {
   "cell_type": "code",
   "execution_count": 0,
   "metadata": {
    "application/vnd.databricks.v1+cell": {
     "cellMetadata": {
      "byteLimit": 2048000,
      "rowLimit": 10000
     },
     "inputWidgets": {},
     "nuid": "fc122ee5-be9a-4cc4-ada1-123742be1a27",
     "showTitle": false,
     "tableResultSettingsMap": {},
     "title": ""
    }
   },
   "outputs": [
    {
     "output_type": "display_data",
     "data": {
      "text/html": [
       "<style scoped>\n",
       "  .table-result-container {\n",
       "    max-height: 300px;\n",
       "    overflow: auto;\n",
       "  }\n",
       "  table, th, td {\n",
       "    border: 1px solid black;\n",
       "    border-collapse: collapse;\n",
       "  }\n",
       "  th, td {\n",
       "    padding: 5px;\n",
       "  }\n",
       "  th {\n",
       "    text-align: left;\n",
       "  }\n",
       "</style><div class='table-result-container'><table class='table-result'><thead style='background-color: white'><tr><th>year</th><th>month</th><th>High </th><th>Jam </th><th>Low </th><th>Medium </th><th>NaN </th><th>Cloudy</th><th>Fog</th><th>Sandstorms</th><th>Stormy</th><th>Sunny</th><th>Windy</th><th>festival</th><th>non_festival</th></tr></thead><tbody><tr><td>2022</td><td>2</td><td>686</td><td>2299</td><td>2442</td><td>1747</td><td>68</td><td>1211</td><td>1212</td><td>1217</td><td>1203</td><td>1145</td><td>1171</td><td>148</td><td>7094</td></tr><tr><td>2022</td><td>3</td><td>3083</td><td>9929</td><td>10883</td><td>7644</td><td>450</td><td>5311</td><td>5331</td><td>5218</td><td>5343</td><td>5155</td><td>5181</td><td>633</td><td>31356</td></tr><tr><td>2022</td><td>4</td><td>656</td><td>1915</td><td>2152</td><td>1556</td><td>83</td><td>1014</td><td>1111</td><td>1060</td><td>1040</td><td>984</td><td>1070</td><td>115</td><td>6247</td></tr></tbody></table></div>"
      ]
     },
     "metadata": {
      "application/vnd.databricks.v1+output": {
       "addedWidgets": {},
       "aggData": [],
       "aggError": "",
       "aggOverflow": false,
       "aggSchema": [],
       "aggSeriesLimitReached": false,
       "aggType": "",
       "arguments": {},
       "columnCustomDisplayInfos": {},
       "data": [
        [
         2022,
         2,
         686,
         2299,
         2442,
         1747,
         68,
         1211,
         1212,
         1217,
         1203,
         1145,
         1171,
         148,
         7094
        ],
        [
         2022,
         3,
         3083,
         9929,
         10883,
         7644,
         450,
         5311,
         5331,
         5218,
         5343,
         5155,
         5181,
         633,
         31356
        ],
        [
         2022,
         4,
         656,
         1915,
         2152,
         1556,
         83,
         1014,
         1111,
         1060,
         1040,
         984,
         1070,
         115,
         6247
        ]
       ],
       "datasetInfos": [],
       "dbfsResultPath": null,
       "isJsonSchema": true,
       "metadata": {},
       "overflow": false,
       "plotOptions": {
        "customPlotOptions": {},
        "displayType": "table",
        "pivotAggregation": null,
        "pivotColumns": null,
        "xColumns": null,
        "yColumns": null
       },
       "removedWidgets": [],
       "schema": [
        {
         "metadata": "{}",
         "name": "year",
         "type": "\"integer\""
        },
        {
         "metadata": "{}",
         "name": "month",
         "type": "\"integer\""
        },
        {
         "metadata": "{}",
         "name": "High ",
         "type": "\"long\""
        },
        {
         "metadata": "{}",
         "name": "Jam ",
         "type": "\"long\""
        },
        {
         "metadata": "{}",
         "name": "Low ",
         "type": "\"long\""
        },
        {
         "metadata": "{}",
         "name": "Medium ",
         "type": "\"long\""
        },
        {
         "metadata": "{}",
         "name": "NaN ",
         "type": "\"long\""
        },
        {
         "metadata": "{}",
         "name": "Cloudy",
         "type": "\"long\""
        },
        {
         "metadata": "{}",
         "name": "Fog",
         "type": "\"long\""
        },
        {
         "metadata": "{}",
         "name": "Sandstorms",
         "type": "\"long\""
        },
        {
         "metadata": "{}",
         "name": "Stormy",
         "type": "\"long\""
        },
        {
         "metadata": "{}",
         "name": "Sunny",
         "type": "\"long\""
        },
        {
         "metadata": "{}",
         "name": "Windy",
         "type": "\"long\""
        },
        {
         "metadata": "{}",
         "name": "festival",
         "type": "\"long\""
        },
        {
         "metadata": "{}",
         "name": "non_festival",
         "type": "\"long\""
        }
       ],
       "type": "table"
      }
     },
     "output_type": "display_data"
    },
    {
     "output_type": "display_data",
     "data": {
      "text/plain": [
       "Databricks visualization. Run in Databricks to view."
      ]
     },
     "metadata": {
      "application/vnd.databricks.v1.subcommand+json": {
       "baseErrorDetails": null,
       "bindings": {},
       "collapsed": false,
       "command": "%python\n__backend_agg_display_orig = display\n__backend_agg_dfs = []\ndef __backend_agg_display_new(df):\n    __backend_agg_df_modules = [\"pandas.core.frame\", \"databricks.koalas.frame\", \"pyspark.sql.dataframe\", \"pyspark.pandas.frame\", \"pyspark.sql.connect.dataframe\"]\n    if (type(df).__module__ in __backend_agg_df_modules and type(df).__name__ == 'DataFrame') or isinstance(df, list):\n        __backend_agg_dfs.append(df)\n\ndisplay = __backend_agg_display_new\n\ndef __backend_agg_user_code_fn():\n    import base64\n    exec(base64.standard_b64decode(\"ZGlzcGxheShmaW5hbF9kZik=\").decode())\n\ntry:\n    # run user code\n    __backend_agg_user_code_fn()\n\n    #reset display function\n    display = __backend_agg_display_orig\n\n    if len(__backend_agg_dfs) > 0:\n        # create a temp view\n        if type(__backend_agg_dfs[0]).__module__ == \"databricks.koalas.frame\":\n            # koalas dataframe\n            __backend_agg_dfs[0].to_spark().createOrReplaceTempView(\"DatabricksView06a70d0\")\n        elif type(__backend_agg_dfs[0]).__module__ == \"pandas.core.frame\" or isinstance(__backend_agg_dfs[0], list):\n            # pandas dataframe\n            spark.createDataFrame(__backend_agg_dfs[0]).createOrReplaceTempView(\"DatabricksView06a70d0\")\n        else:\n            __backend_agg_dfs[0].createOrReplaceTempView(\"DatabricksView06a70d0\")\n        #run backend agg\n        display(spark.sql(\"\"\"WITH q AS (select * from DatabricksView06a70d0) SELECT `month`,SUM(`High `) `column_2071666e63`,SUM(`Jam `) `column_2071666e67`,SUM(`Low `) `column_2071666e70`,SUM(`Fog`) `column_2071666e73`,SUM(`Cloudy`) `column_2071666e76`,SUM(`Sandstorms`) `column_2071666e79`,SUM(`festival`) `column_2071666e82`,SUM(`non_festival`) `column_2071666e85`,SUM(`Sunny`) `column_2071666e88` FROM q GROUP BY `month`\"\"\"))\n    else:\n        displayHTML(\"dataframe no longer exists. If you're using dataframe.display(), use display(dataframe) instead.\")\n\n\nfinally:\n    spark.sql(\"drop view if exists DatabricksView06a70d0\")\n    display = __backend_agg_display_orig\n    del __backend_agg_display_new\n    del __backend_agg_display_orig\n    del __backend_agg_dfs\n    del __backend_agg_user_code_fn\n\n",
       "commandTitle": "Visualization 1",
       "commandType": "auto",
       "commandVersion": 0,
       "commentThread": [],
       "commentsVisible": false,
       "contentSha256Hex": null,
       "customPlotOptions": {
        "redashChart": [
         {
          "key": "type",
          "value": "CHART"
         },
         {
          "key": "options",
          "value": {
           "alignYAxesAtZero": true,
           "coefficient": 1,
           "columnConfigurationMap": {
            "x": {
             "column": "month",
             "id": "column_2071666e61"
            },
            "y": [
             {
              "column": "High ",
              "id": "column_2071666e63",
              "transform": "SUM"
             },
             {
              "column": "Jam ",
              "id": "column_2071666e67",
              "transform": "SUM"
             },
             {
              "column": "Low ",
              "id": "column_2071666e70",
              "transform": "SUM"
             },
             {
              "column": "Fog",
              "id": "column_2071666e73",
              "transform": "SUM"
             },
             {
              "column": "Cloudy",
              "id": "column_2071666e76",
              "transform": "SUM"
             },
             {
              "column": "Sandstorms",
              "id": "column_2071666e79",
              "transform": "SUM"
             },
             {
              "column": "festival",
              "id": "column_2071666e82",
              "transform": "SUM"
             },
             {
              "column": "non_festival",
              "id": "column_2071666e85",
              "transform": "SUM"
             },
             {
              "column": "Sunny",
              "id": "column_2071666e88",
              "transform": "SUM"
             }
            ]
           },
           "dateTimeFormat": "DD/MM/YYYY HH:mm",
           "direction": {
            "type": "counterclockwise"
           },
           "error_y": {
            "type": "data",
            "visible": true
           },
           "globalSeriesType": "column",
           "isAggregationOn": true,
           "legend": {
            "traceorder": "normal"
           },
           "missingValuesAsZero": true,
           "numberFormat": "0,0.[00000]",
           "percentFormat": "0[.]00%",
           "series": {
            "error_y": {
             "type": "data",
             "visible": true
            },
            "stacking": null
           },
           "seriesOptions": {
            "column_2071666e63": {
             "name": "High_traffic",
             "type": "column",
             "yAxis": 0,
             "zIndex": 7
            },
            "column_2071666e67": {
             "name": "Traffic_Jam",
             "type": "column",
             "yAxis": 0,
             "zIndex": 6
            },
            "column_2071666e70": {
             "name": "Low_traffic",
             "type": "column",
             "yAxis": 0,
             "zIndex": 8
            },
            "column_2071666e73": {
             "name": "Foggy",
             "type": "column",
             "yAxis": 0,
             "zIndex": 2
            },
            "column_2071666e76": {
             "name": "Cloudy",
             "type": "column",
             "yAxis": 0,
             "zIndex": 4
            },
            "column_2071666e79": {
             "name": "Sandstorm",
             "type": "column",
             "yAxis": 0,
             "zIndex": 3
            },
            "column_2071666e82": {
             "name": "Festive season",
             "type": "column",
             "yAxis": 0,
             "zIndex": 0
            },
            "column_2071666e85": {
             "name": "Non-Festive",
             "type": "column",
             "yAxis": 0,
             "zIndex": 1
            },
            "column_2071666e88": {
             "name": "Sunny",
             "type": "column",
             "yAxis": 0,
             "zIndex": 5
            }
           },
           "showDataLabels": false,
           "sizemode": "diameter",
           "sortX": true,
           "sortY": true,
           "swappedAxes": false,
           "textFormat": "",
           "useAggregationsUi": true,
           "valuesOptions": {},
           "version": 2,
           "xAxis": {
            "labels": {
             "enabled": true
            },
            "title": {
             "text": "2022 (month)"
            },
            "type": "-"
           },
           "yAxis": [
            {
             "title": {
              "text": "Food Order Count"
             },
             "type": "-"
            },
            {
             "opposite": true,
             "type": "-"
            }
           ]
          }
         }
        ]
       },
       "datasetPreviewNameToCmdIdMap": {},
       "diffDeletes": [],
       "diffInserts": [],
       "displayType": "redashChart",
       "error": null,
       "errorDetails": null,
       "errorSummary": null,
       "errorTraceType": null,
       "finishTime": 0,
       "globalVars": {},
       "guid": "",
       "height": "auto",
       "hideCommandCode": false,
       "hideCommandResult": false,
       "iPythonMetadata": null,
       "inputWidgets": {},
       "isLockedInExamMode": false,
       "latestUser": "a user",
       "latestUserId": null,
       "listResultMetadata": null,
       "metadata": {},
       "nuid": "607e6ceb-4b92-40a0-888c-60cf7e195bb0",
       "origId": 0,
       "parentHierarchy": [],
       "pivotAggregation": null,
       "pivotColumns": null,
       "position": 6.0,
       "resultDbfsErrorMessage": null,
       "resultDbfsStatus": "INLINED_IN_TREE",
       "results": null,
       "showCommandTitle": false,
       "startTime": 0,
       "state": "input",
       "streamStates": {},
       "subcommandOptions": {
        "queryPlan": {
         "groups": [
          {
           "column": "month",
           "type": "column"
          }
         ],
         "selects": [
          {
           "column": "month",
           "type": "column"
          },
          {
           "alias": "column_2071666e63",
           "args": [
            {
             "column": "High ",
             "type": "column"
            }
           ],
           "function": "SUM",
           "type": "function"
          },
          {
           "alias": "column_2071666e67",
           "args": [
            {
             "column": "Jam ",
             "type": "column"
            }
           ],
           "function": "SUM",
           "type": "function"
          },
          {
           "alias": "column_2071666e70",
           "args": [
            {
             "column": "Low ",
             "type": "column"
            }
           ],
           "function": "SUM",
           "type": "function"
          },
          {
           "alias": "column_2071666e73",
           "args": [
            {
             "column": "Fog",
             "type": "column"
            }
           ],
           "function": "SUM",
           "type": "function"
          },
          {
           "alias": "column_2071666e76",
           "args": [
            {
             "column": "Cloudy",
             "type": "column"
            }
           ],
           "function": "SUM",
           "type": "function"
          },
          {
           "alias": "column_2071666e79",
           "args": [
            {
             "column": "Sandstorms",
             "type": "column"
            }
           ],
           "function": "SUM",
           "type": "function"
          },
          {
           "alias": "column_2071666e82",
           "args": [
            {
             "column": "festival",
             "type": "column"
            }
           ],
           "function": "SUM",
           "type": "function"
          },
          {
           "alias": "column_2071666e85",
           "args": [
            {
             "column": "non_festival",
             "type": "column"
            }
           ],
           "function": "SUM",
           "type": "function"
          },
          {
           "alias": "column_2071666e88",
           "args": [
            {
             "column": "Sunny",
             "type": "column"
            }
           ],
           "function": "SUM",
           "type": "function"
          }
         ]
        }
       },
       "submitTime": 0,
       "subtype": "tableResultSubCmd.visualization",
       "tableResultIndex": 0,
       "tableResultSettingsMap": {},
       "useConsistentColors": false,
       "version": "CommandV1",
       "width": "auto",
       "workflows": [],
       "xColumns": null,
       "yColumns": null
      }
     },
     "output_type": "display_data"
    }
   ],
   "source": [
    "display(final_df)"
   ]
  },
  {
   "cell_type": "code",
   "execution_count": 0,
   "metadata": {
    "application/vnd.databricks.v1+cell": {
     "cellMetadata": {},
     "inputWidgets": {},
     "nuid": "f11c8fe1-61b0-4b88-aeaa-3dc4b1e49cde",
     "showTitle": false,
     "tableResultSettingsMap": {},
     "title": ""
    }
   },
   "outputs": [],
   "source": []
  }
 ],
 "metadata": {
  "application/vnd.databricks.v1+notebook": {
   "computePreferences": null,
   "dashboards": [],
   "environmentMetadata": {
    "base_environment": "",
    "client": "1"
   },
   "language": "python",
   "notebookMetadata": {
    "pythonIndentUnit": 4
   },
   "notebookName": "analytics_food_delivery",
   "widgets": {}
  }
 },
 "nbformat": 4,
 "nbformat_minor": 0
}
