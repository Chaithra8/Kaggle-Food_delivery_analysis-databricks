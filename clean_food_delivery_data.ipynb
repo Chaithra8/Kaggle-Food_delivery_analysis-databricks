{
 "cells": [
  {
   "cell_type": "markdown",
   "metadata": {
    "application/vnd.databricks.v1+cell": {
     "cellMetadata": {},
     "inputWidgets": {},
     "nuid": "48969c49-d33a-4c62-8a26-53a1d02b5104",
     "showTitle": false,
     "tableResultSettingsMap": {},
     "title": ""
    }
   },
   "source": [
    "Create staging schema "
   ]
  },
  {
   "cell_type": "code",
   "execution_count": 0,
   "metadata": {
    "application/vnd.databricks.v1+cell": {
     "cellMetadata": {
      "byteLimit": 2048000,
      "implicitDf": true,
      "rowLimit": 10000
     },
     "inputWidgets": {},
     "nuid": "01ed1993-11b6-45d0-9780-68cdd4f11c3b",
     "showTitle": false,
     "tableResultSettingsMap": {},
     "title": ""
    }
   },
   "outputs": [
    {
     "output_type": "display_data",
     "data": {
      "text/html": [
       "<style scoped>\n",
       "  .table-result-container {\n",
       "    max-height: 300px;\n",
       "    overflow: auto;\n",
       "  }\n",
       "  table, th, td {\n",
       "    border: 1px solid black;\n",
       "    border-collapse: collapse;\n",
       "  }\n",
       "  th, td {\n",
       "    padding: 5px;\n",
       "  }\n",
       "  th {\n",
       "    text-align: left;\n",
       "  }\n",
       "</style><div class='table-result-container'><table class='table-result'><thead style='background-color: white'><tr></tr></thead><tbody></tbody></table></div>"
      ]
     },
     "metadata": {
      "application/vnd.databricks.v1+output": {
       "addedWidgets": {},
       "aggData": [],
       "aggError": "",
       "aggOverflow": false,
       "aggSchema": [],
       "aggSeriesLimitReached": false,
       "aggType": "",
       "arguments": {},
       "columnCustomDisplayInfos": {},
       "data": [],
       "datasetInfos": [],
       "dbfsResultPath": null,
       "isJsonSchema": true,
       "metadata": {
        "dataframeName": null
       },
       "overflow": false,
       "plotOptions": {
        "customPlotOptions": {},
        "displayType": "table",
        "pivotAggregation": null,
        "pivotColumns": null,
        "xColumns": null,
        "yColumns": null
       },
       "removedWidgets": [],
       "schema": [],
       "type": "table"
      }
     },
     "output_type": "display_data"
    }
   ],
   "source": [
    "%sql\n",
    "\n",
    "CREATE DATABASE IF NOT EXISTS staging;\n"
   ]
  },
  {
   "cell_type": "code",
   "execution_count": 0,
   "metadata": {
    "application/vnd.databricks.v1+cell": {
     "cellMetadata": {
      "byteLimit": 2048000,
      "rowLimit": 10000
     },
     "inputWidgets": {},
     "nuid": "2ad89f5b-fc58-4305-89ca-52c7986c6146",
     "showTitle": false,
     "tableResultSettingsMap": {},
     "title": ""
    }
   },
   "outputs": [],
   "source": [
    "# read food delivery delta table from landing schema\n",
    "landing_df = spark.read.table('landing.food_delivery_data')"
   ]
  },
  {
   "cell_type": "code",
   "execution_count": 0,
   "metadata": {
    "application/vnd.databricks.v1+cell": {
     "cellMetadata": {
      "byteLimit": 2048000,
      "rowLimit": 10000
     },
     "inputWidgets": {},
     "nuid": "04ab0e3e-f560-453f-a3f2-ba7a7edfefed",
     "showTitle": false,
     "tableResultSettingsMap": {},
     "title": ""
    }
   },
   "outputs": [],
   "source": [
    "# Columns renaming\n",
    "col_mapping = {\n",
    "    'ID': 'id',\n",
    "    'Delivery_person_ID': 'delivery_person_id',\n",
    "    'Delivery_person_Age': 'delivery_person_age',\n",
    "    'Delivery_person_Ratings': 'delivery_person_ratings',\n",
    "    'Restaurant_latitude': 'restaurant_latitude',\n",
    "    'Restaurant_longitude': 'restaurant_longitude',\n",
    "    'Delivery_location_latitude': 'delivery_location_latitude',\n",
    "    'Delivery_location_longitude': 'delivery_location_longitude',\n",
    "    'Order_Date': 'order_date',\n",
    "    'Time_Orderd': 'time_ordered',\n",
    "    'Time_Order_picked': 'time_order_picked',\n",
    "    'Weatherconditions': 'weather_conditions',\n",
    "    'Road_traffic_density': 'road_traffic_density',\n",
    "    'Vehicle_condition': 'vehicle_condition',\n",
    "    'Type_of_order': 'type_of_order',\n",
    "    'Type_of_vehicle': 'type_of_vehicle',\n",
    "    'multiple_deliveries': 'multiple_deliveries',\n",
    "    'Festival': 'festival',\n",
    "    'City': 'city',\n",
    "    'Time_taken_min': 'time_taken_min'\n",
    "}\n",
    "\n",
    "col_renamed_df = landing_df.withColumnsRenamed(col_mapping)\n"
   ]
  },
  {
   "cell_type": "code",
   "execution_count": 0,
   "metadata": {
    "application/vnd.databricks.v1+cell": {
     "cellMetadata": {
      "byteLimit": 2048000,
      "rowLimit": 10000
     },
     "inputWidgets": {},
     "nuid": "77c592cc-2e4d-4e7d-85d1-2d255ceb7a4f",
     "showTitle": false,
     "tableResultSettingsMap": {},
     "title": ""
    }
   },
   "outputs": [],
   "source": [
    "from pyspark.sql.functions import * \n",
    "\n",
    "# Clean and tranform data by changing datatype and date formatting\n",
    "#time difference between order placed and order picked up by delivery person\n",
    "# adding column for name of week food ordered\n",
    "updated_df = col_renamed_df \\\n",
    "    .withColumn(\"delivery_person_age\", col(\"delivery_person_age\").cast(\"int\")) \\\n",
    "    .withColumn(\"delivery_person_ratings\", col(\"delivery_person_ratings\").cast(\"float\")) \\\n",
    "    .withColumn(\"restaurant_latitude\", col(\"restaurant_latitude\").cast(\"float\")) \\\n",
    "    .withColumn(\"restaurant_longitude\", col(\"restaurant_longitude\").cast(\"float\")) \\\n",
    "    .withColumn(\"delivery_location_latitude\", col(\"delivery_location_latitude\").cast(\"float\")) \\\n",
    "    .withColumn(\"delivery_location_longitude\", col(\"delivery_location_longitude\").cast(\"float\")) \\\n",
    "    .withColumn(\"time_taken_min\", split(col(\"time_taken_min\"), \" \")[1].cast(\"int\")) \\\n",
    "    .withColumn(\"weather_conditions\", split(col(\"weather_conditions\"), \" \")[1]) \\\n",
    "    .withColumn(\"time_ordered_formatted\", to_timestamp(concat(col(\"order_date\"), lit(\" \"), col(\"time_ordered\")), \"yyyy-MM-dd HH:mm:ss\")) \\\n",
    "    .withColumn(\"time_order_picked_formatted\", to_timestamp(concat(col(\"order_date\"), lit(\" \"), split(col(\"time_order_picked\"),\" \")[1]), \"yyyy-MM-dd HH:mm:ss\")) \\\n",
    "    .withColumn(\"order_date\", to_date(col(\"order_date\"), \"yyyy-MM-dd\")) \\\n",
    "    .withColumn(\n",
    "        \"order_prepare_time_mins\",\n",
    "        (unix_timestamp(col(\"time_order_picked_formatted\")) - unix_timestamp(col(\"time_ordered_formatted\"))) / 60) \\\n",
    "    .withColumn(\"year\", year(\"order_date\")) \\\n",
    "    .withColumn(\"month\", month(\"order_date\")) \\\n",
    "    .withColumn(\"quarter\", quarter(\"order_date\")) \\\n",
    "    .withColumn(\"weekday_name\", date_format(col(\"order_date\"), \"EEEE\")) \\\n",
    "    .withColumn(\"city\", when(col(\"city\").like(\"%NaN%\"), \"Others\").otherwise(col(\"city\"))) \\\n",
    "    .withColumn(\"weather_conditions\", when(col(\"weather_conditions\").like(\"%NaN%\"), \"Others\").otherwise(col(\"weather_conditions\")))\n",
    "\n",
    "# Handle missing values\n",
    "staging_df = updated_df.fillna({\"delivery_person_age\": 0, \"delivery_person_ratings\": 0, \"time_taken_min\": 0})  \n",
    "# staging_df.show(5)\n",
    "\n",
    "# Write the cleaned data into a Delta table (this is our Staging Layer)\n",
    "staging_df.write.format(\"delta\").mode(\"overwrite\").option(\"mergeSchema\", \"true\").saveAsTable(\"staging.food_delivery_stage\")"
   ]
  },
  {
   "cell_type": "code",
   "execution_count": 0,
   "metadata": {
    "application/vnd.databricks.v1+cell": {
     "cellMetadata": {},
     "inputWidgets": {},
     "nuid": "9e59db7e-8bc5-446a-8aae-ff896cccefe9",
     "showTitle": false,
     "tableResultSettingsMap": {},
     "title": ""
    }
   },
   "outputs": [],
   "source": []
  }
 ],
 "metadata": {
  "application/vnd.databricks.v1+notebook": {
   "computePreferences": null,
   "dashboards": [],
   "environmentMetadata": {
    "base_environment": "",
    "client": "1"
   },
   "language": "python",
   "notebookMetadata": {
    "mostRecentlyExecutedCommandWithImplicitDF": {
     "commandId": 3849142037684496,
     "dataframes": [
      "_sqldf"
     ]
    },
    "pythonIndentUnit": 4
   },
   "notebookName": "clean_food_delivery_data",
   "widgets": {}
  }
 },
 "nbformat": 4,
 "nbformat_minor": 0
}
